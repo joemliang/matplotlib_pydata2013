{
 "metadata": {
  "name": "",
  "signature": "sha256:9db722b1b50b4e96ce74ff80f3dabaa1c8f2d3ffc786d19c5b2e001734ba1c1a"
 },
 "nbformat": 3,
 "nbformat_minor": 0,
 "worksheets": [
  {
   "cells": [
    {
     "cell_type": "heading",
     "level": 1,
     "metadata": {},
     "source": [
      "Adding Interactivity: Key Bindings and Callbacks"
     ]
    },
    {
     "cell_type": "markdown",
     "metadata": {},
     "source": [
      "We saw before that plot elements can be adjusted dynamically.  The creation of\n",
      "an interactive plots is a short step from this: we simply need to add callbacks to\n",
      "the plot so that mouse and keyboard actions in the figure window lead to the plot\n",
      "elements being updated.\n",
      "\n",
      "This is a little known aspect of matplotlib: the presence of key bindings and callback\n",
      "functions which can be bound to various actions.\n",
      "The main interface to these is through the ``plt.connect``\n",
      "interface.  You can see the various events by looking at the documentation string\n",
      "of the ``plt.connect`` function:"
     ]
    },
    {
     "cell_type": "code",
     "collapsed": false,
     "input": [
      "# start in non-inline mode, so we can use interactive plots\n",
      "%pylab"
     ],
     "language": "python",
     "metadata": {},
     "outputs": [
      {
       "output_type": "stream",
       "stream": "stdout",
       "text": [
        "Using matplotlib backend: MacOSX\n",
        "Populating the interactive namespace from numpy and matplotlib\n"
       ]
      }
     ],
     "prompt_number": 1
    },
    {
     "cell_type": "code",
     "collapsed": false,
     "input": [
      "print help(plt.connect)"
     ],
     "language": "python",
     "metadata": {},
     "outputs": [
      {
       "output_type": "stream",
       "stream": "stdout",
       "text": [
        "Help on function connect in module matplotlib.pyplot:\n",
        "\n",
        "connect(s, func)\n",
        "    Connect event with string *s* to *func*.  The signature of *func* is::\n",
        "    \n",
        "      def func(event)\n",
        "    \n",
        "    where event is a :class:`matplotlib.backend_bases.Event`.  The\n",
        "    following events are recognized\n",
        "    \n",
        "    - 'button_press_event'\n",
        "    - 'button_release_event'\n",
        "    - 'draw_event'\n",
        "    - 'key_press_event'\n",
        "    - 'key_release_event'\n",
        "    - 'motion_notify_event'\n",
        "    - 'pick_event'\n",
        "    - 'resize_event'\n",
        "    - 'scroll_event'\n",
        "    - 'figure_enter_event',\n",
        "    - 'figure_leave_event',\n",
        "    - 'axes_enter_event',\n",
        "    - 'axes_leave_event'\n",
        "    - 'close_event'\n",
        "    \n",
        "    For the location events (button and key press/release), if the\n",
        "    mouse is over the axes, the variable ``event.inaxes`` will be\n",
        "    set to the :class:`~matplotlib.axes.Axes` the event occurs is\n",
        "    over, and additionally, the variables ``event.xdata`` and\n",
        "    ``event.ydata`` will be defined.  This is the mouse location\n",
        "    in data coords.  See\n",
        "    :class:`~matplotlib.backend_bases.KeyEvent` and\n",
        "    :class:`~matplotlib.backend_bases.MouseEvent` for more info.\n",
        "    \n",
        "    Return value is a connection id that can be used with\n",
        "    :meth:`~matplotlib.backend_bases.Event.mpl_disconnect`.\n",
        "    \n",
        "    Example usage::\n",
        "    \n",
        "        def on_press(event):\n",
        "            print('you pressed', event.button, event.xdata, event.ydata)\n",
        "    \n",
        "        cid = canvas.mpl_connect('button_press_event', on_press)\n",
        "\n",
        "None\n"
       ]
      }
     ],
     "prompt_number": 2
    },
    {
     "cell_type": "heading",
     "level": 2,
     "metadata": {},
     "source": [
      "Keyboard Callbacks"
     ]
    },
    {
     "cell_type": "markdown",
     "metadata": {},
     "source": [
      "Using these sorts of callbacks is extremely straightforward.  Let's start with\n",
      "looking at binding key-presses to actions."
     ]
    },
    {
     "cell_type": "code",
     "collapsed": false,
     "input": [
      "import sys\n",
      "fig, ax = plt.subplots()\n",
      "\n",
      "def on_key_press(event):\n",
      "    print event.key\n",
      "    sys.stdout.flush()\n",
      "    \n",
      "fig.canvas.mpl_connect('key_press_event', on_key_press)"
     ],
     "language": "python",
     "metadata": {},
     "outputs": [
      {
       "metadata": {},
       "output_type": "pyout",
       "prompt_number": 6,
       "text": [
        "6"
       ]
      },
      {
       "output_type": "stream",
       "stream": "stdout",
       "text": [
        "s\n"
       ]
      },
      {
       "output_type": "stream",
       "stream": "stdout",
       "text": [
        "s\n"
       ]
      },
      {
       "output_type": "stream",
       "stream": "stdout",
       "text": [
        "g\n"
       ]
      },
      {
       "output_type": "stream",
       "stream": "stdout",
       "text": [
        "g\n"
       ]
      },
      {
       "output_type": "stream",
       "stream": "stdout",
       "text": [
        "g\n"
       ]
      },
      {
       "output_type": "stream",
       "stream": "stdout",
       "text": [
        "g\n"
       ]
      }
     ],
     "prompt_number": 6
    },
    {
     "cell_type": "markdown",
     "metadata": {},
     "source": [
      "You might notice that if you hit the ``s`` key here, you get some somewhat\n",
      "unexpected behavior.  For example, if you press the ``g`` key, you'll see\n",
      "that the grid lines toggle on or off.  If you press the ``s`` key, you'll\n",
      "see an interactive figure save window appear.\n",
      "\n",
      "These key-bound shortcuts are activated by default, but can be turned off\n",
      "with the following command:"
     ]
    },
    {
     "cell_type": "code",
     "collapsed": false,
     "input": [
      "fig.canvas.mpl_disconnect(fig.canvas.manager.key_press_handler_id)"
     ],
     "language": "python",
     "metadata": {},
     "outputs": [],
     "prompt_number": 7
    },
    {
     "cell_type": "markdown",
     "metadata": {},
     "source": [
      "Here's the last code snippet repeated all at once:"
     ]
    },
    {
     "cell_type": "code",
     "collapsed": false,
     "input": [
      "import sys\n",
      "fig, ax = plt.subplots()\n",
      "\n",
      "def on_key_press(event):\n",
      "    print event.key\n",
      "    sys.stdout.flush()\n",
      "\n",
      "fig.canvas.mpl_disconnect(fig.canvas.manager.key_press_handler_id)\n",
      "fig.canvas.mpl_connect('key_press_event', on_key_press)"
     ],
     "language": "python",
     "metadata": {},
     "outputs": [
      {
       "metadata": {},
       "output_type": "pyout",
       "prompt_number": 8,
       "text": [
        "6"
       ]
      }
     ],
     "prompt_number": 8
    },
    {
     "cell_type": "heading",
     "level": 3,
     "metadata": {},
     "source": [
      "Quick Example: Changing a Line Color"
     ]
    },
    {
     "cell_type": "markdown",
     "metadata": {},
     "source": [
      "Let's create a slightly more interesting callback function.  We can\n",
      "use the same line updating code to dynamically adjust the color\n",
      "of a line:"
     ]
    },
    {
     "cell_type": "code",
     "collapsed": false,
     "input": [
      "fig, ax = plt.subplots()\n",
      "x = np.linspace(0, 10, 1000)\n",
      "line, = ax.plot(x, np.sin(x))\n",
      "\n",
      "def on_key_press(event):\n",
      "    # If the key is one of the shorthand color notations, set the line color\n",
      "    if event.key in 'rgbcmyk':\n",
      "        line.set_color(event.key)\n",
      "\n",
      "    fig.canvas.draw()\n",
      "\n",
      "fig.canvas.mpl_disconnect(fig.canvas.manager.key_press_handler_id)\n",
      "fig.canvas.mpl_connect('key_press_event', on_key_press)"
     ],
     "language": "python",
     "metadata": {},
     "outputs": [
      {
       "metadata": {},
       "output_type": "pyout",
       "prompt_number": 15,
       "text": [
        "6"
       ]
      }
     ],
     "prompt_number": 15
    },
    {
     "cell_type": "markdown",
     "metadata": {},
     "source": [
      "**Exercise:** modify the above function so that if the user presses a number,\n",
      "the *linewidth* of the line is changed to that number."
     ]
    },
    {
     "cell_type": "code",
     "collapsed": false,
     "input": [
      "fig, ax = plt.subplots()\n",
      "x = np.linspace(0, 10, 1000)\n",
      "line, = ax.plot(x, np.sin(x))\n",
      "\n",
      "def on_key_press(event):\n",
      "    # If the key is one of the numbers, set the linewidth.\n",
      "    if event.key in '1234':\n",
      "        line.set_linewidth(event.key)  # ???? failed\n",
      "\n",
      "    fig.canvas.draw()\n",
      "\n",
      "fig.canvas.mpl_disconnect(fig.canvas.manager.key_press_handler_id)\n",
      "fig.canvas.mpl_connect('key_press_event', on_key_press)"
     ],
     "language": "python",
     "metadata": {},
     "outputs": [
      {
       "metadata": {},
       "output_type": "pyout",
       "prompt_number": 20,
       "text": [
        "6"
       ]
      }
     ],
     "prompt_number": 20
    },
    {
     "cell_type": "heading",
     "level": 2,
     "metadata": {},
     "source": [
      "Mouse Callbacks"
     ]
    },
    {
     "cell_type": "markdown",
     "metadata": {},
     "source": [
      "Just as we bound keyboard callbacks to actions, we can bind mouse buttons and movements\n",
      "to actions.  The mouse events store the **button** as an integer ID (Note that the button press event\n",
      "stores both the **pixel** value of the event location, as well as the **data** value\n",
      "of the event location."
     ]
    },
    {
     "cell_type": "code",
     "collapsed": false,
     "input": [
      "import sys\n",
      "fig, ax = plt.subplots()\n",
      "\n",
      "def on_button_press(event):\n",
      "    print dir(event)\n",
      "    print \"Button:\", event.button\n",
      "    print \"Figure coordinates:\", event.x, event.y\n",
      "    print \"Data coordinates:\", event.xdata, event.ydata\n",
      "    sys.stdout.flush()\n",
      "    \n",
      "fig.canvas.mpl_connect('button_press_event', on_button_press)"
     ],
     "language": "python",
     "metadata": {},
     "outputs": [
      {
       "metadata": {},
       "output_type": "pyout",
       "prompt_number": 22,
       "text": [
        "6"
       ]
      },
      {
       "output_type": "stream",
       "stream": "stdout",
       "text": [
        "['__doc__', '__init__', '__module__', '__str__', '_update_enter_leave', 'button', 'canvas', 'dblclick', 'guiEvent', 'inaxes', 'key', 'lastevent', 'name', 'step', 'x', 'xdata', 'y', 'ydata']\n",
        "Button: 1\n",
        "Figure coordinates: 354 210\n",
        "Data coordinates: 0.552419354839 0.421875\n"
       ]
      },
      {
       "output_type": "stream",
       "stream": "stdout",
       "text": [
        "['__doc__', '__init__', '__module__', '__str__', '_update_enter_leave', 'button', 'canvas', 'dblclick', 'guiEvent', 'inaxes', 'key', 'lastevent', 'name', 'step', 'x', 'xdata', 'y', 'ydata']\n",
        "Button: 1\n",
        "Figure coordinates: 458 135\n",
        "Data coordinates: 0.762096774194 0.2265625\n"
       ]
      },
      {
       "output_type": "stream",
       "stream": "stdout",
       "text": [
        "['__doc__', '__init__', '__module__', '__str__', '_update_enter_leave', 'button', 'canvas', 'dblclick', 'guiEvent', 'inaxes', 'key', 'lastevent', 'name', 'step', 'x', 'xdata', 'y', 'ydata']\n",
        "Button: 1\n",
        "Figure coordinates: 421 247\n",
        "Data coordinates: 0.6875 0.518229166667\n"
       ]
      },
      {
       "output_type": "stream",
       "stream": "stdout",
       "text": [
        "['__doc__', '__init__', '__module__', '__str__', '_update_enter_leave', 'button', 'canvas', 'dblclick', 'guiEvent', 'inaxes', 'key', 'lastevent', 'name', 'step', 'x', 'xdata', 'y', 'ydata']\n",
        "Button: 1\n",
        "Figure coordinates: 244 313\n",
        "Data coordinates: 0.33064516129 0.690104166667\n"
       ]
      }
     ],
     "prompt_number": 22
    },
    {
     "cell_type": "markdown",
     "metadata": {},
     "source": [
      "Another interesting mouse event is the ``motion_notify_event``.  Here, rather than the\n",
      "callback being activated whenever the mouse button is clicked, it is activated whenever\n",
      "the mouse is moved."
     ]
    },
    {
     "cell_type": "code",
     "collapsed": false,
     "input": [
      "import sys\n",
      "fig, ax = plt.subplots()\n",
      "\n",
      "def on_mouse_move(event):\n",
      "    print \"Data coordinates:\", event.xdata, event.ydata\n",
      "    sys.stdout.flush()\n",
      "    \n",
      "fig.canvas.mpl_connect('motion_notify_event', on_mouse_move)"
     ],
     "language": "python",
     "metadata": {},
     "outputs": [
      {
       "metadata": {},
       "output_type": "pyout",
       "prompt_number": 23,
       "text": [
        "6"
       ]
      },
      {
       "output_type": "stream",
       "stream": "stdout",
       "text": [
        "Data coordinates: None None\n"
       ]
      },
      {
       "output_type": "stream",
       "stream": "stdout",
       "text": [
        "Data coordinates: None None\n"
       ]
      },
      {
       "output_type": "stream",
       "stream": "stdout",
       "text": [
        "Data coordinates: None None\n"
       ]
      },
      {
       "output_type": "stream",
       "stream": "stdout",
       "text": [
        "Data coordinates: None None\n"
       ]
      },
      {
       "output_type": "stream",
       "stream": "stdout",
       "text": [
        "Data coordinates: None None\n"
       ]
      },
      {
       "output_type": "stream",
       "stream": "stdout",
       "text": [
        "Data coordinates: None None\n"
       ]
      },
      {
       "output_type": "stream",
       "stream": "stdout",
       "text": [
        "Data coordinates: None None\n"
       ]
      },
      {
       "output_type": "stream",
       "stream": "stdout",
       "text": [
        "Data coordinates: None None\n"
       ]
      },
      {
       "output_type": "stream",
       "stream": "stdout",
       "text": [
        "Data coordinates: None None\n"
       ]
      },
      {
       "output_type": "stream",
       "stream": "stdout",
       "text": [
        "Data coordinates: None None\n"
       ]
      },
      {
       "output_type": "stream",
       "stream": "stdout",
       "text": [
        "Data coordinates: None None\n"
       ]
      },
      {
       "output_type": "stream",
       "stream": "stdout",
       "text": [
        "Data coordinates: None None\n"
       ]
      },
      {
       "output_type": "stream",
       "stream": "stdout",
       "text": [
        "Data coordinates: None None\n"
       ]
      },
      {
       "output_type": "stream",
       "stream": "stdout",
       "text": [
        "Data coordinates: None None\n"
       ]
      },
      {
       "output_type": "stream",
       "stream": "stdout",
       "text": [
        "Data coordinates: None None\n"
       ]
      },
      {
       "output_type": "stream",
       "stream": "stdout",
       "text": [
        "Data coordinates: None None\n"
       ]
      },
      {
       "output_type": "stream",
       "stream": "stdout",
       "text": [
        "Data coordinates: None None\n"
       ]
      },
      {
       "output_type": "stream",
       "stream": "stdout",
       "text": [
        "Data coordinates: None None\n"
       ]
      },
      {
       "output_type": "stream",
       "stream": "stdout",
       "text": [
        "Data coordinates: None None\n"
       ]
      },
      {
       "output_type": "stream",
       "stream": "stdout",
       "text": [
        "Data coordinates: None None\n"
       ]
      },
      {
       "output_type": "stream",
       "stream": "stdout",
       "text": [
        "Data coordinates: None None\n"
       ]
      },
      {
       "output_type": "stream",
       "stream": "stdout",
       "text": [
        "Data coordinates: None None\n"
       ]
      },
      {
       "output_type": "stream",
       "stream": "stdout",
       "text": [
        "Data coordinates: None None\n"
       ]
      },
      {
       "output_type": "stream",
       "stream": "stdout",
       "text": [
        "Data coordinates: None None\n"
       ]
      },
      {
       "output_type": "stream",
       "stream": "stdout",
       "text": [
        "Data coordinates: None None\n"
       ]
      },
      {
       "output_type": "stream",
       "stream": "stdout",
       "text": [
        "Data coordinates: None None\n"
       ]
      },
      {
       "output_type": "stream",
       "stream": "stdout",
       "text": [
        "Data coordinates: None None\n"
       ]
      },
      {
       "output_type": "stream",
       "stream": "stdout",
       "text": [
        "Data coordinates: None None\n"
       ]
      },
      {
       "output_type": "stream",
       "stream": "stdout",
       "text": [
        "Data coordinates: None None\n"
       ]
      },
      {
       "output_type": "stream",
       "stream": "stdout",
       "text": [
        "Data coordinates: None None\n"
       ]
      },
      {
       "output_type": "stream",
       "stream": "stdout",
       "text": [
        "Data coordinates: None None\n"
       ]
      },
      {
       "output_type": "stream",
       "stream": "stdout",
       "text": [
        "Data coordinates: None None\n"
       ]
      },
      {
       "output_type": "stream",
       "stream": "stdout",
       "text": [
        "Data coordinates: None None\n"
       ]
      },
      {
       "output_type": "stream",
       "stream": "stdout",
       "text": [
        "Data coordinates: None None\n"
       ]
      },
      {
       "output_type": "stream",
       "stream": "stdout",
       "text": [
        "Data coordinates: None None\n"
       ]
      },
      {
       "output_type": "stream",
       "stream": "stdout",
       "text": [
        "Data coordinates: None None\n"
       ]
      },
      {
       "output_type": "stream",
       "stream": "stdout",
       "text": [
        "Data coordinates: None None\n"
       ]
      },
      {
       "output_type": "stream",
       "stream": "stdout",
       "text": [
        "Data coordinates: None None\n"
       ]
      },
      {
       "output_type": "stream",
       "stream": "stdout",
       "text": [
        "Data coordinates: None None\n"
       ]
      },
      {
       "output_type": "stream",
       "stream": "stdout",
       "text": [
        "Data coordinates: None None\n"
       ]
      },
      {
       "output_type": "stream",
       "stream": "stdout",
       "text": [
        "Data coordinates: None None\n"
       ]
      },
      {
       "output_type": "stream",
       "stream": "stdout",
       "text": [
        "Data coordinates: None None\n"
       ]
      },
      {
       "output_type": "stream",
       "stream": "stdout",
       "text": [
        "Data coordinates: None None\n"
       ]
      },
      {
       "output_type": "stream",
       "stream": "stdout",
       "text": [
        "Data coordinates: None None\n"
       ]
      },
      {
       "output_type": "stream",
       "stream": "stdout",
       "text": [
        "Data coordinates: None None\n"
       ]
      },
      {
       "output_type": "stream",
       "stream": "stdout",
       "text": [
        "Data coordinates: None None\n"
       ]
      },
      {
       "output_type": "stream",
       "stream": "stdout",
       "text": [
        "Data coordinates: None None\n"
       ]
      },
      {
       "output_type": "stream",
       "stream": "stdout",
       "text": [
        "Data coordinates: None None\n"
       ]
      },
      {
       "output_type": "stream",
       "stream": "stdout",
       "text": [
        "Data coordinates: None None\n"
       ]
      },
      {
       "output_type": "stream",
       "stream": "stdout",
       "text": [
        "Data coordinates: None None\n"
       ]
      },
      {
       "output_type": "stream",
       "stream": "stdout",
       "text": [
        "Data coordinates: None None\n"
       ]
      },
      {
       "output_type": "stream",
       "stream": "stdout",
       "text": [
        "Data coordinates: None None\n"
       ]
      },
      {
       "output_type": "stream",
       "stream": "stdout",
       "text": [
        "Data coordinates: None None\n"
       ]
      },
      {
       "output_type": "stream",
       "stream": "stdout",
       "text": [
        "Data coordinates: None None\n"
       ]
      },
      {
       "output_type": "stream",
       "stream": "stdout",
       "text": [
        "Data coordinates: 0.723790322581 0.986979166667\n"
       ]
      },
      {
       "output_type": "stream",
       "stream": "stdout",
       "text": [
        "Data coordinates: 0.717741935484 0.950520833333\n"
       ]
      },
      {
       "output_type": "stream",
       "stream": "stdout",
       "text": [
        "Data coordinates: 0.709677419355 0.927083333333\n"
       ]
      },
      {
       "output_type": "stream",
       "stream": "stdout",
       "text": [
        "Data coordinates: 0.699596774194 0.916666666667\n"
       ]
      },
      {
       "output_type": "stream",
       "stream": "stdout",
       "text": [
        "Data coordinates: 0.691532258065 0.903645833333\n"
       ]
      },
      {
       "output_type": "stream",
       "stream": "stdout",
       "text": [
        "Data coordinates: 0.681451612903 0.890625\n"
       ]
      },
      {
       "output_type": "stream",
       "stream": "stdout",
       "text": [
        "Data coordinates: 0.677419354839 0.885416666667\n"
       ]
      },
      {
       "output_type": "stream",
       "stream": "stdout",
       "text": [
        "Data coordinates: 0.671370967742 0.8828125\n"
       ]
      },
      {
       "output_type": "stream",
       "stream": "stdout",
       "text": [
        "Data coordinates: 0.665322580645 0.877604166667\n"
       ]
      },
      {
       "output_type": "stream",
       "stream": "stdout",
       "text": [
        "Data coordinates: 0.659274193548 0.875\n"
       ]
      },
      {
       "output_type": "stream",
       "stream": "stdout",
       "text": [
        "Data coordinates: 0.651209677419 0.869791666667\n"
       ]
      },
      {
       "output_type": "stream",
       "stream": "stdout",
       "text": [
        "Data coordinates: 0.637096774194 0.8671875\n"
       ]
      },
      {
       "output_type": "stream",
       "stream": "stdout",
       "text": [
        "Data coordinates: 0.608870967742 0.864583333333\n"
       ]
      },
      {
       "output_type": "stream",
       "stream": "stdout",
       "text": [
        "Data coordinates: 0.572580645161 0.864583333333\n"
       ]
      },
      {
       "output_type": "stream",
       "stream": "stdout",
       "text": [
        "Data coordinates: 0.504032258065 0.872395833333\n"
       ]
      },
      {
       "output_type": "stream",
       "stream": "stdout",
       "text": [
        "Data coordinates: 0.433467741935 0.901041666667\n"
       ]
      },
      {
       "output_type": "stream",
       "stream": "stdout",
       "text": [
        "Data coordinates: 0.391129032258 0.921875\n"
       ]
      },
      {
       "output_type": "stream",
       "stream": "stdout",
       "text": [
        "Data coordinates: 0.306451612903 0.963541666667\n"
       ]
      },
      {
       "output_type": "stream",
       "stream": "stdout",
       "text": [
        "Data coordinates: 0.260080645161 0.986979166667\n"
       ]
      },
      {
       "output_type": "stream",
       "stream": "stdout",
       "text": [
        "Data coordinates: None None\n"
       ]
      },
      {
       "output_type": "stream",
       "stream": "stdout",
       "text": [
        "Data coordinates: None None\n"
       ]
      },
      {
       "output_type": "stream",
       "stream": "stdout",
       "text": [
        "Data coordinates: None None\n"
       ]
      },
      {
       "output_type": "stream",
       "stream": "stdout",
       "text": [
        "Data coordinates: None None\n"
       ]
      },
      {
       "output_type": "stream",
       "stream": "stdout",
       "text": [
        "Data coordinates: None None\n"
       ]
      },
      {
       "output_type": "stream",
       "stream": "stdout",
       "text": [
        "Data coordinates: None None\n"
       ]
      },
      {
       "output_type": "stream",
       "stream": "stdout",
       "text": [
        "Data coordinates: None None\n"
       ]
      },
      {
       "output_type": "stream",
       "stream": "stdout",
       "text": [
        "Data coordinates: None None\n"
       ]
      },
      {
       "output_type": "stream",
       "stream": "stdout",
       "text": [
        "Data coordinates: None None\n"
       ]
      },
      {
       "output_type": "stream",
       "stream": "stdout",
       "text": [
        "Data coordinates: 0.155241935484 0.979166666667\n"
       ]
      },
      {
       "output_type": "stream",
       "stream": "stdout",
       "text": [
        "Data coordinates: 0.177419354839 0.919270833333\n"
       ]
      },
      {
       "output_type": "stream",
       "stream": "stdout",
       "text": [
        "Data coordinates: 0.193548387097 0.864583333333\n"
       ]
      },
      {
       "output_type": "stream",
       "stream": "stdout",
       "text": [
        "Data coordinates: 0.203629032258 0.815104166667\n"
       ]
      },
      {
       "output_type": "stream",
       "stream": "stdout",
       "text": [
        "Data coordinates: 0.209677419355 0.7890625\n"
       ]
      },
      {
       "output_type": "stream",
       "stream": "stdout",
       "text": [
        "Data coordinates: 0.213709677419 0.763020833333\n"
       ]
      },
      {
       "output_type": "stream",
       "stream": "stdout",
       "text": [
        "Data coordinates: 0.215725806452 0.747395833333\n"
       ]
      },
      {
       "output_type": "stream",
       "stream": "stdout",
       "text": [
        "Data coordinates: 0.219758064516 0.739583333333\n"
       ]
      },
      {
       "output_type": "stream",
       "stream": "stdout",
       "text": [
        "Data coordinates: 0.219758064516 0.734375\n"
       ]
      },
      {
       "output_type": "stream",
       "stream": "stdout",
       "text": [
        "Data coordinates: 0.219758064516 0.731770833333\n"
       ]
      },
      {
       "output_type": "stream",
       "stream": "stdout",
       "text": [
        "Data coordinates: 0.219758064516 0.729166666667\n"
       ]
      },
      {
       "output_type": "stream",
       "stream": "stdout",
       "text": [
        "Data coordinates: 0.219758064516 0.7265625\n"
       ]
      },
      {
       "output_type": "stream",
       "stream": "stdout",
       "text": [
        "Data coordinates: 0.219758064516 0.723958333333\n"
       ]
      },
      {
       "output_type": "stream",
       "stream": "stdout",
       "text": [
        "Data coordinates: 0.219758064516 0.721354166667\n"
       ]
      },
      {
       "output_type": "stream",
       "stream": "stdout",
       "text": [
        "Data coordinates: 0.219758064516 0.71875\n"
       ]
      },
      {
       "output_type": "stream",
       "stream": "stdout",
       "text": [
        "Data coordinates: 0.219758064516 0.716145833333\n"
       ]
      },
      {
       "output_type": "stream",
       "stream": "stdout",
       "text": [
        "Data coordinates: 0.219758064516 0.7109375\n"
       ]
      },
      {
       "output_type": "stream",
       "stream": "stdout",
       "text": [
        "Data coordinates: 0.219758064516 0.708333333333\n"
       ]
      },
      {
       "output_type": "stream",
       "stream": "stdout",
       "text": [
        "Data coordinates: 0.213709677419 0.700520833333\n"
       ]
      },
      {
       "output_type": "stream",
       "stream": "stdout",
       "text": [
        "Data coordinates: 0.211693548387 0.692708333333\n"
       ]
      },
      {
       "output_type": "stream",
       "stream": "stdout",
       "text": [
        "Data coordinates: 0.20564516129 0.684895833333\n"
       ]
      },
      {
       "output_type": "stream",
       "stream": "stdout",
       "text": [
        "Data coordinates: 0.197580645161 0.677083333333\n"
       ]
      },
      {
       "output_type": "stream",
       "stream": "stdout",
       "text": [
        "Data coordinates: 0.1875 0.666666666667\n"
       ]
      },
      {
       "output_type": "stream",
       "stream": "stdout",
       "text": [
        "Data coordinates: 0.16935483871 0.661458333333\n"
       ]
      },
      {
       "output_type": "stream",
       "stream": "stdout",
       "text": [
        "Data coordinates: 0.14314516129 0.65625\n"
       ]
      },
      {
       "output_type": "stream",
       "stream": "stdout",
       "text": [
        "Data coordinates: 0.108870967742 0.6640625\n"
       ]
      },
      {
       "output_type": "stream",
       "stream": "stdout",
       "text": [
        "Data coordinates: 0.0625 0.705729166667\n"
       ]
      },
      {
       "output_type": "stream",
       "stream": "stdout",
       "text": [
        "Data coordinates: 0.0383064516129 0.739583333333\n"
       ]
      },
      {
       "output_type": "stream",
       "stream": "stdout",
       "text": [
        "Data coordinates: None None\n"
       ]
      },
      {
       "output_type": "stream",
       "stream": "stdout",
       "text": [
        "Data coordinates: None None\n"
       ]
      },
      {
       "output_type": "stream",
       "stream": "stdout",
       "text": [
        "Data coordinates: None None\n"
       ]
      },
      {
       "output_type": "stream",
       "stream": "stdout",
       "text": [
        "Data coordinates: None None\n"
       ]
      },
      {
       "output_type": "stream",
       "stream": "stdout",
       "text": [
        "Data coordinates: None None\n"
       ]
      },
      {
       "output_type": "stream",
       "stream": "stdout",
       "text": [
        "Data coordinates: None None\n"
       ]
      },
      {
       "output_type": "stream",
       "stream": "stdout",
       "text": [
        "Data coordinates: None None\n"
       ]
      },
      {
       "output_type": "stream",
       "stream": "stdout",
       "text": [
        "Data coordinates: None None\n"
       ]
      },
      {
       "output_type": "stream",
       "stream": "stdout",
       "text": [
        "Data coordinates: None None\n"
       ]
      },
      {
       "output_type": "stream",
       "stream": "stdout",
       "text": [
        "Data coordinates: None None\n"
       ]
      },
      {
       "output_type": "stream",
       "stream": "stdout",
       "text": [
        "Data coordinates: None None\n"
       ]
      },
      {
       "output_type": "stream",
       "stream": "stdout",
       "text": [
        "Data coordinates: None None\n"
       ]
      },
      {
       "output_type": "stream",
       "stream": "stdout",
       "text": [
        "Data coordinates: None None\n"
       ]
      },
      {
       "output_type": "stream",
       "stream": "stdout",
       "text": [
        "Data coordinates: None None\n"
       ]
      },
      {
       "output_type": "stream",
       "stream": "stdout",
       "text": [
        "Data coordinates: None None\n"
       ]
      },
      {
       "output_type": "stream",
       "stream": "stdout",
       "text": [
        "Data coordinates: None None\n"
       ]
      },
      {
       "output_type": "stream",
       "stream": "stdout",
       "text": [
        "Data coordinates: None None\n"
       ]
      },
      {
       "output_type": "stream",
       "stream": "stdout",
       "text": [
        "Data coordinates: None None\n"
       ]
      },
      {
       "output_type": "stream",
       "stream": "stdout",
       "text": [
        "Data coordinates: None None\n"
       ]
      },
      {
       "output_type": "stream",
       "stream": "stdout",
       "text": [
        "Data coordinates: None None\n"
       ]
      },
      {
       "output_type": "stream",
       "stream": "stdout",
       "text": [
        "Data coordinates: None None\n"
       ]
      },
      {
       "output_type": "stream",
       "stream": "stdout",
       "text": [
        "Data coordinates: None None\n"
       ]
      },
      {
       "output_type": "stream",
       "stream": "stdout",
       "text": [
        "Data coordinates: None None\n"
       ]
      }
     ],
     "prompt_number": 23
    },
    {
     "cell_type": "heading",
     "level": 2,
     "metadata": {},
     "source": [
      "Quick Example: Manipulating a Polygon"
     ]
    },
    {
     "cell_type": "markdown",
     "metadata": {},
     "source": [
      "Mouse callbacks allow us to do some interesting things.  For example, here we'll\n",
      "manipulate the color of a polygon by clicking on it:"
     ]
    },
    {
     "cell_type": "code",
     "collapsed": false,
     "input": [
      "fig, ax = plt.subplots()\n",
      "ax.set_xlim(-1, 2)\n",
      "ax.set_ylim(-1, 2)\n",
      "rect = plt.Rectangle((0, 0), 1, 1, color=np.random.random(3)) # fc: facecolor. either fc or color is ok here\n",
      "ax.add_patch(rect)\n",
      "\n",
      "def on_click(event):\n",
      "    x, y = event.xdata, event.ydata\n",
      "    if (x > 0) and (x < 1) and (y > 0) and (y < 1):\n",
      "        rect.set_fc(np.random.random(3))\n",
      "        fig.canvas.draw()\n",
      "    \n",
      "fig.canvas.mpl_connect('button_press_event', on_click)"
     ],
     "language": "python",
     "metadata": {},
     "outputs": [
      {
       "metadata": {},
       "output_type": "pyout",
       "prompt_number": 35,
       "text": [
        "6"
       ]
      }
     ],
     "prompt_number": 35
    },
    {
     "cell_type": "heading",
     "level": 3,
     "metadata": {},
     "source": [
      "A Better Way: Pick Events"
     ]
    },
    {
     "cell_type": "markdown",
     "metadata": {},
     "source": [
      "Because clicking on polygons and other plot elements is such a common piece of many APIs,\n",
      "there is a cleaner and simpler way to do this: a pick event.  A pick event is an event\n",
      "associated with any **artist** instance on the plot.  We can re-create our random polygon\n",
      "example using pick events in this way:"
     ]
    },
    {
     "cell_type": "code",
     "collapsed": false,
     "input": [
      "fig, ax = plt.subplots()\n",
      "ax.set_xlim(-1, 2)\n",
      "ax.set_ylim(-1, 2)\n",
      "rect = plt.Rectangle((0, 0), 1, 1, fc=np.random.random(3), picker=True)\n",
      "ax.add_patch(rect)\n",
      "\n",
      "def on_pick(event):\n",
      "    artist = event.artist\n",
      "    artist.set_fc(np.random.random(3))\n",
      "    fig.canvas.draw()\n",
      "    \n",
      "fig.canvas.mpl_connect('pick_event', on_pick)"
     ],
     "language": "python",
     "metadata": {},
     "outputs": [
      {
       "metadata": {},
       "output_type": "pyout",
       "prompt_number": 36,
       "text": [
        "6"
       ]
      }
     ],
     "prompt_number": 36
    },
    {
     "cell_type": "markdown",
     "metadata": {},
     "source": [
      "We can do a similar thing for a line rather than a polygon:"
     ]
    },
    {
     "cell_type": "code",
     "collapsed": false,
     "input": [
      "fig, ax = plt.subplots()\n",
      "x = np.linspace(0, 10, 1000)\n",
      "ax.plot(x, np.sin(x), c=np.random.random(3), lw=3, picker=5) # 5 points tolerance\n",
      "ax.plot(x, np.cos(x), c=np.random.random(3), lw=3, picker=5) # 5 points tolerance\n",
      "\n",
      "def on_pick(event):\n",
      "    artist = event.artist\n",
      "    artist.set_color(np.random.random(3))\n",
      "    fig.canvas.draw()\n",
      "    \n",
      "fig.canvas.mpl_connect('pick_event', on_pick)"
     ],
     "language": "python",
     "metadata": {},
     "outputs": [
      {
       "metadata": {},
       "output_type": "pyout",
       "prompt_number": 33,
       "text": [
        "6"
       ]
      }
     ],
     "prompt_number": 33
    },
    {
     "cell_type": "heading",
     "level": 3,
     "metadata": {},
     "source": [
      "Exercise"
     ]
    },
    {
     "cell_type": "markdown",
     "metadata": {},
     "source": [
      "Use the above framework to draw ``N`` circles, all of which can have\n",
      "their color changed by clicking on them:"
     ]
    },
    {
     "cell_type": "code",
     "collapsed": false,
     "input": [
      "fig, ax = plt.subplots()\n",
      "ax.set_xlim(-1, 2)\n",
      "ax.set_ylim(-1, 2)\n",
      "circle1 = plt.Circle((0, 0), 1, fc=np.random.random(3), picker = True)\n",
      "circle2 = plt.Circle((1, 1), 1, fc=np.random.random(3), picker = True)\n",
      "ax.add_patch(circle1)\n",
      "ax.add_patch(circle2)\n",
      "\n",
      "def on_pick(event):\n",
      "    artist = event.artist\n",
      "    artist.set_color(np.random.random(3))\n",
      "    fig.canvas.draw()\n",
      "    \n",
      "fig.canvas.mpl_connect('pick_event', on_pick)"
     ],
     "language": "python",
     "metadata": {},
     "outputs": [
      {
       "metadata": {},
       "output_type": "pyout",
       "prompt_number": 37,
       "text": [
        "6"
       ]
      }
     ],
     "prompt_number": 37
    },
    {
     "cell_type": "heading",
     "level": 2,
     "metadata": {},
     "source": [
      "Going a bit crazy... "
     ]
    },
    {
     "cell_type": "markdown",
     "metadata": {},
     "source": [
      "Now we'll do a bit of an exercise based on a [blog post](http://jakevdp.github.com/blog/2012/11/24/simple-3d-visualization-in-matplotlib/)\n",
      "that I did a while ago.\n",
      "\n",
      "I've written some code which will show a 3D cube on the matplotlib canvas,\n",
      "and your task is to add event hooks that allow it to be manipulated by\n",
      "clicking and dragging the mouse.\n",
      "\n",
      "There's a script which creates a cube object, which can be rotated, projected, and shown on a 2D axis.  It can be used like this:"
     ]
    },
    {
     "cell_type": "code",
     "collapsed": false,
     "input": [
      "from tutorial_lib.simple_cube import Cube\n",
      "c = Cube()\n",
      "fig, ax = plt.subplots(figsize=(8, 8))\n",
      "c.add_to_ax(ax)\n",
      "c.rotate(c.x - c.y, -np.pi / 6)"
     ],
     "language": "python",
     "metadata": {},
     "outputs": [],
     "prompt_number": 38
    },
    {
     "cell_type": "markdown",
     "metadata": {},
     "source": [
      "The cube can be rotated by calling the `rotate` method with the following arguments:\n",
      "\n",
      "- ``axis``: a 3D vector specifying the direction of the axis of rotation\n",
      "- ``angle``: a rotation angle (in radians)\n",
      "\n",
      "We can call ``rotate()``, followed by the draw method to show the cube rotating:"
     ]
    },
    {
     "cell_type": "code",
     "collapsed": false,
     "input": [
      "for i in range(50):\n",
      "    c.rotate([1, 0, 0], np.pi / 20)\n",
      "    fig.canvas.draw()"
     ],
     "language": "python",
     "metadata": {},
     "outputs": [],
     "prompt_number": 39
    },
    {
     "cell_type": "markdown",
     "metadata": {},
     "source": [
      "With this machinery in place, we can set up some key bindings to make this\n",
      "object interactive.\n",
      "\n",
      "Let's first bind the left and right arrows to y-axis rotation, and the up and\n",
      "down arrows to x-axis rotation:"
     ]
    },
    {
     "cell_type": "code",
     "collapsed": false,
     "input": [
      "def key_press(event):\n",
      "    if event.key == 'left':\n",
      "        c.rotate(c.y, np.pi / 12)\n",
      "    elif event.key == 'right':\n",
      "        c.rotate(c.y, -np.pi / 12)\n",
      "    elif event.key == 'up':\n",
      "        c.rotate(c.x, np.pi / 12)\n",
      "    elif event.key == 'down':\n",
      "        c.rotate(c.x, -np.pi / 12)\n",
      "    fig.canvas.draw()\n",
      "    \n",
      "fig.canvas.mpl_connect('key_press_event', key_press)"
     ],
     "language": "python",
     "metadata": {},
     "outputs": [
      {
       "metadata": {},
       "output_type": "pyout",
       "prompt_number": 40,
       "text": [
        "6"
       ]
      }
     ],
     "prompt_number": 40
    },
    {
     "cell_type": "heading",
     "level": 2,
     "metadata": {},
     "source": [
      "Challenge"
     ]
    },
    {
     "cell_type": "markdown",
     "metadata": {},
     "source": [
      "Now we'll stop a bit for an exercise.  This is your task:\n",
      "\n",
      "**Create a cube which can be manipulated by clicking and dragging**\n",
      "\n",
      "You'll likely need to set up three different callback functions:\n",
      "\n",
      "- `button_press_event` : when the mouse button is pressed, set an indicator variable to `True`, and store the x and y location.\n",
      "- `button_release_event` : when the mouse button is released, set an indicator variable to `False`\n",
      "- `motion_notify_event`: when the mouse moves, check if the button is pressed.  If so, rotate the cube about the x or y axis (or both!), depending on the new x/y location (be sure to call ``draw()`` to re-draw the figure!)\n",
      "\n",
      "We'll take 10 minutes or so for you to try this."
     ]
    },
    {
     "cell_type": "code",
     "collapsed": false,
     "input": [],
     "language": "python",
     "metadata": {},
     "outputs": []
    }
   ],
   "metadata": {}
  }
 ]
}